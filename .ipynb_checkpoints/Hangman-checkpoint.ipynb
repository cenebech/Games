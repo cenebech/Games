{
 "cells": [
  {
   "cell_type": "code",
   "execution_count": 1,
   "metadata": {},
   "outputs": [
    {
     "data": {
      "text/plain": [
       "'\\nThis code is for a simple hand man game that uses implementations of\\n-List\\n-Time module\\n-Loops\\n-Counter Variables\\n-Logic Interations\\n-Random operation\\n-Input file containing all the words\\n-Visual Hangman \\n-String iterations like slicing\\n-Basic example using a word list file, the folder has been commented\\n'"
      ]
     },
     "execution_count": 1,
     "metadata": {},
     "output_type": "execute_result"
    }
   ],
   "source": [
    "'''\n",
    "This code is for a simple hand man game that uses implementations of\n",
    "-List\n",
    "-Time module\n",
    "-Loops\n",
    "-Counter Variables\n",
    "-Logic Interations\n",
    "-Random operation\n",
    "-Input file containing all the words\n",
    "-Visual Hangman \n",
    "-String iterations like slicing\n",
    "-Basic example using a word list file, the folder has been commented\n",
    "'''"
   ]
  },
  {
   "cell_type": "code",
   "execution_count": 2,
   "metadata": {
    "scrolled": true
   },
   "outputs": [
    {
     "name": "stdout",
     "output_type": "stream",
     "text": [
      "The word is:  ball\n",
      "Please guess a letter:_ _ _ _ letter: b\n",
      "Please guess a letter:b _ _ _ letter: a\n",
      "Please guess a letter:ba_ _ _ letter: l\n",
      "Please guess a letter:bal _ _ letter: l\n",
      "The word is: ball\n",
      "Good job!\n"
     ]
    }
   ],
   "source": [
    "import random\n",
    "import time\n",
    "\n",
    "#READ from a file called words.txt\n",
    "'''\n",
    "WORDLIST_FILENAME = \"words.txt\"\n",
    "print(\"Loading word list from a file...\")\n",
    "inFile = open(WORDLIST_FILENAME, 'r')\n",
    "line = inFile.readline()\n",
    "wordList = line.split()\n",
    "word = random.choice(wordList)\n",
    "'''\n",
    "\n",
    "\n",
    "\n",
    "\n",
    "secretWord = [\"ball\",\"doll\",\"golf\",\"secret\",\"thief\"]\n",
    "word = random.choice(secretWord)\n",
    "myword = word\n",
    "print (\"The word is: \" , myword)\n",
    "length = len(word)\n",
    "count = 0\n",
    "display = \"_ \"*length\n",
    "limit = 0\n",
    "while count < length:\n",
    "    guess = input(\"Please guess a letter:\" + display + \"letter: \")\n",
    "    if guess in word:\n",
    "        index = word.find(guess)\n",
    "        #print(\"display before: \", display)\n",
    "        word = word[:index]+\"_\"+word[index+1: ]\n",
    "        display = display[:index]+guess+display[index+1:]\n",
    "        #display = display[:index]+guess+display[index+1:]\n",
    "        #print(\"display after: \", display)\n",
    "    #print(count)\n",
    "        count+=1\n",
    "    else:\n",
    "        limit +=1\n",
    "        if limit == 1:\n",
    "            print(\"Wrong Input, \"+ str(3 - limit) +\" guess remaining\")\n",
    "            print(\" _____ \\n\"\n",
    "                \" |      \\n\"\n",
    "                \" |      \\n\"\n",
    "                \" |      \\n\"\n",
    "                \" |      \\n\"\n",
    "                \" |      \\n\"\n",
    "                \" |      \\n\" \n",
    "                \"_|_\\n\"\n",
    "            )\n",
    "        elif limit == 2:\n",
    "            print(\"Wrong Input, \"+ str(3 - limit) +\" guess remaining\")\n",
    "            print(\" _______ \\n\"\n",
    "                \" |     | \\n\"\n",
    "                \" |     | \\n\"\n",
    "                \" |     | \\n\"\n",
    "                \" |     \\n\"\n",
    "                \" |    \\n\"\n",
    "                \" |\\n\" \n",
    "                \"_|_ \\n\"\n",
    "                )\n",
    "        elif limit == 3:\n",
    "            count == length\n",
    "            print(\"Wrong input. You are hanged\")\n",
    "            print(\"  _______ \\n\"\n",
    "                \"  |    | \\n\"\n",
    "                \"  |    | \\n\"\n",
    "                \"  |    | \\n\"\n",
    "                \"  |    o \\n\"\n",
    "                \"  |   /|\\ \\n\"\n",
    "                \"  |   / \\ \\n\"\n",
    "                \"  |\\n\" \n",
    "                \"__|__\\n\"\n",
    "             )\n",
    "            print(\"The correct word is, \" + myword)\n",
    "            count = length\n",
    "            \n",
    "if word == \"_\"*length:\n",
    "    print(\"The word is: \"+ myword)\n",
    "    print(\"Good job!\")"
   ]
  },
  {
   "cell_type": "code",
   "execution_count": null,
   "metadata": {},
   "outputs": [],
   "source": []
  },
  {
   "cell_type": "code",
   "execution_count": null,
   "metadata": {},
   "outputs": [],
   "source": []
  },
  {
   "cell_type": "code",
   "execution_count": null,
   "metadata": {},
   "outputs": [],
   "source": []
  }
 ],
 "metadata": {
  "kernelspec": {
   "display_name": "Python 3",
   "language": "python",
   "name": "python3"
  },
  "language_info": {
   "codemirror_mode": {
    "name": "ipython",
    "version": 3
   },
   "file_extension": ".py",
   "mimetype": "text/x-python",
   "name": "python",
   "nbconvert_exporter": "python",
   "pygments_lexer": "ipython3",
   "version": "3.7.3"
  }
 },
 "nbformat": 4,
 "nbformat_minor": 2
}
